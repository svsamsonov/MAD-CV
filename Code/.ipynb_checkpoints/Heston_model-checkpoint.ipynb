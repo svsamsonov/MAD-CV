{
 "cells": [
  {
   "cell_type": "code",
   "execution_count": null,
   "metadata": {},
   "outputs": [],
   "source": [
    "import numpy as np\n",
    "import numpy.polynomial as P\n",
    "import scipy as sp\n",
    "from matplotlib import pyplot as plt\n",
    "from tqdm import tqdm\n",
    "#from sklearn.preprocessing import PolynomialFeatures\n",
    "from multiprocessing import Pool\n",
    "import multiprocessing\n",
    "import ZVnbrosse\n",
    "from sklearn.preprocessing import PolynomialFeatures\n",
    "from potentials import GaussPotential,GaussMixture,GausMixtureIdent,GausMixtureSame,BananaShape\n",
    "from samplers import MCMC_sampler,Generate_train,ULA_light\n",
    "from baselines import set_function,construct_ESVM_kernel,GenerateSigma\n",
    "from martingale import approx_q\n",
    "from optimize import Run_eval_test,optimize_parallel_new \n",
    "from utils import * \n",
    "import copy"
   ]
  },
  {
   "cell_type": "code",
   "execution_count": null,
   "metadata": {},
   "outputs": [],
   "source": [
    "def H(k, x):\n",
    "    if k==0:\n",
    "        return 1.0\n",
    "    if k ==1:\n",
    "        return x\n",
    "    if k==2:\n",
    "        return (x**2 - 1)/np.sqrt(2)\n",
    "    c = np.zeros(k+1,dtype = float)\n",
    "    c[k] = 1.0\n",
    "    h = P.hermite_e.hermeval(x,c) / np.sqrt(sp.special.factorial(k)) \n",
    "    return h\n",
    "\n",
    "def compute_H(k,x):\n",
    "    return H(k[0],x[:,0])*H(k[1],x[:,1])"
   ]
  },
  {
   "cell_type": "code",
   "execution_count": null,
   "metadata": {},
   "outputs": [],
   "source": [
    "def test_traj(coefs_poly_regr,gamma,r_seed,lag,K_max,S_max,N_test,f_type,x0):\n",
    "    \"\"\"\n",
    "    function to perform 1-dimensional martingale decomposition\n",
    "    \"\"\"\n",
    "    X_test,Noise = generate_traj(x0,N_test,gamma,r_seed)\n",
    "    S_test = X_test[0,:]\n",
    "    V_test = X_test[1,:]\n",
    "    test_stat_vanilla = np.zeros(N_test,dtype = float)\n",
    "    test_stat_vr = np.zeros_like(test_stat_vanilla)\n",
    "    #compute number of basis polynomials\n",
    "    num_basis_funcs = K_max+1\n",
    "    #compute polynomials of noise variables Z_l\n",
    "    poly_vals = np.zeros((num_basis_funcs,N_test), dtype = float)\n",
    "    for k in range(len(poly_vals)):\n",
    "        poly_vals[k,:] = H(k,Noise)\n",
    "    #initialize function\n",
    "    f_vals_vanilla = X_test**2\n",
    "    #array to store control variates values\n",
    "    cvfs = np.zeros_like(f_vals_vanilla)\n",
    "    #compute coeffitients bar_a\n",
    "    bar_a_1 = np.zeros((lag,N_test),dtype=float)\n",
    "    bar_a_2 = np.zeros_like(bar_a_1)\n",
    "    for i in range(lag):\n",
    "        #second-order coefficients\n",
    "        bar_a_2[i,1:] = coefs_poly_regr[i,2]*np.sqrt(2)*gamma*(sigma(X_test[:-1]))**2\n",
    "        bar_a_2[i,0] = coefs_poly_regr[i,2]*np.sqrt(2)*gamma*(sigma(x0))**2\n",
    "        #first-order coefficients\n",
    "        bar_a_1[i,1:] = coefs_poly_regr[i,1]*np.sqrt(gamma)*sigma(X_test[:-1]) +\\\n",
    "                coefs_poly_regr[i,2]*2*np.sqrt(gamma)*sigma(X_test[:-1])*(S_test[:-1]+gamma*b(S_test[:-1]))\n",
    "        bar_a_1[i,0] = coefs_poly_regr[i,1]*np.sqrt(gamma)*sigma(x0) +\\\n",
    "                        coefs_poly_regr[i,2]*2*np.sqrt(gamma)*sigma(x0)*(x0[0]+gamma*b(x0[0]))\n",
    "    bar_a_1 = bar_a_1*poly_vals[1,:]\n",
    "    bar_a_2 = bar_a_2*poly_vals[2,:]\n",
    "    #compute martingale sums\n",
    "    M_n_1 = 0.0\n",
    "    M_n_2 = 0.0\n",
    "    for l in range(N_test):\n",
    "        for r in range(min(N_test-l,lag)):\n",
    "            M_n_1 += bar_a_1[r,l]\n",
    "            M_n_2 += bar_a_2[r,l]\n",
    "    print(\"M_n_2: \",M_n_2)\n",
    "    print(\"M_n_1: \",M_n_1)\n",
    "    return np.mean(f_vals_vanilla),np.mean(f_vals_vanilla)-M_n_1/N_test,np.mean(f_vals_vanilla)-M_n_1/N_test-M_n_2/N_test\n",
    "#\n",
    "#\n",
    "#"
   ]
  },
  {
   "cell_type": "code",
   "execution_count": null,
   "metadata": {},
   "outputs": [],
   "source": [
    "def approx_q(X_train,Y_train,N_traj_train,lag,max_deg):\n",
    "    \"\"\"\n",
    "    Function to regress q functions on a polynomial basis;\n",
    "    Args:\n",
    "        X_train - train tralectory;\n",
    "        Y_train - function values;\n",
    "        N_traj_train - number of training trajectories;\n",
    "        lag - truncation point for coefficients, those for |p-l| > lag are set to 0;\n",
    "        max_deg - maximum degree of polynomial in regression\n",
    "    \"\"\"\n",
    "    dim = X_train[0,:].shape[0]\n",
    "    #print(\"dimension = \",dim)\n",
    "    coefs_poly = np.array([])\n",
    "    for i in range(lag):\n",
    "        x_all = np.array([])\n",
    "        y_all = np.array([])\n",
    "        for j in range(N_traj_train):\n",
    "            y = Y_train[j,i:,0]\n",
    "            if i == 0:\n",
    "                x = X_train[j,:]\n",
    "            else:\n",
    "                x = X_train[j,:-i]\n",
    "            #concatenate results\n",
    "            if x_all.size == 0:\n",
    "                x_all = x\n",
    "            else:\n",
    "                x_all = np.concatenate((x_all,x),axis = 0)\n",
    "            y_all = np.concatenate([y_all,y])\n",
    "        #should use polyfeatures here\n",
    "        #print(\"variance: \",np.var(y_all))\n",
    "        #print(y_all[:50])\n",
    "        poly = PolynomialFeatures(max_deg)\n",
    "        X_features = poly.fit_transform(x_all)\n",
    "        #print(X_features.shape)\n",
    "        lstsq_results = np.linalg.lstsq(X_features,y_all,rcond = None)\n",
    "        coefs = copy.deepcopy(lstsq_results[0])\n",
    "        coefs.resize((1,X_features.shape[1]))           \n",
    "        if coefs_poly.size == 0:\n",
    "            coefs_poly = copy.deepcopy(coefs)\n",
    "        else:\n",
    "            coefs_poly = np.concatenate((coefs_poly,coefs),axis=0)\n",
    "    return coefs_poly"
   ]
  },
  {
   "cell_type": "code",
   "execution_count": null,
   "metadata": {},
   "outputs": [],
   "source": [
    "kappa = 1.2\n",
    "theta = 0.04\n",
    "#correlation coefficient in Heston model\n",
    "rho = 0.5\n",
    "#interest rate\n",
    "r = 0.05\n",
    "\n",
    "def b(S_t):\n",
    "    \"\"\"\n",
    "    b function in the diffusion\n",
    "    \"\"\"\n",
    "    return gamma*r*S_t\n",
    "\n",
    "def sigma(X_t):\n",
    "    \"\"\"\n",
    "    b function in the diffusion\n",
    "    \"\"\"\n",
    "    return np.sqrt(X_t[1])*X_t[0]\n",
    "\n",
    "def sample_discretized_diffusion(S_t,V_t,gamma_t):\n",
    "    \"\"\"\n",
    "    args:   S_t - asset price;\n",
    "            V_t - volatility value;\n",
    "            gamma_t - step size;\n",
    "            d - dimension;\n",
    "    returns:  (X_{t+1},xi_{t+1}) - value at the next time moment and the corresponding noise variable\n",
    "    \"\"\"\n",
    "    xi = np.random.randn(2)\n",
    "    S = (1+r*gamma)*S_t + np.sqrt(gamma_t*V_t)*S_t*xi[0]\n",
    "    V = V_t + gammma_t*kappa*(theta-V_t) + np.sqrt(gamma_t*V_t)*(rho*xi[0] + np.sqrt(1-rho**2)*xi[1])\n",
    "    return np.array([S,V]),np.array([xi[0],rho*xi[0] + np.sqrt(1-rho**2)*xi[1]])\n",
    "\n",
    "#currently we use this function without the burn-in\n",
    "def generate_traj(x0,n,gamma,r_seed,d,cov):\n",
    "    \"\"\"\n",
    "    args:\n",
    "        x0 - starting point;\n",
    "        n - number of steps;\n",
    "        gamma - step size (assumed to be fixed for now);\n",
    "    returns:\n",
    "        x_all,noise_all - np.arrays of shape (n,)  \n",
    "    \"\"\"\n",
    "    x_all = np.zeros((n,d),dtype = float)\n",
    "    noise_all = np.zeros((n,d),dtype = float)\n",
    "    np.random.seed(r_seed)\n",
    "    x_all[0],noise_all[0] = sample_discretized_diffusion(x0,gamma,d,cov)\n",
    "    for i in range(1,n):\n",
    "        x_all[i],noise_all[i] = sample_discretized_diffusion(x_all[i-1][0],x_all[i-1][1],gamma)\n",
    "    return x_all,noise_all\n",
    "\n",
    "def run_monte_carlo(x,f_type):\n",
    "    if f_type == \"quadratic\":\n",
    "        f_vals = x**2\n",
    "    else:\n",
    "        raise \"not implemented error\"\n",
    "    return np.mean(f_vals,axis=1)"
   ]
  },
  {
   "cell_type": "code",
   "execution_count": null,
   "metadata": {},
   "outputs": [],
   "source": [
    "n = 5*10**3 #sample size\n",
    "gamma = 2e-2 # Step size\n",
    "n_traj = 1\n",
    "d = 2\n",
    "n_traj_test = 100 # Number of independent MCMC trajectories for test\n",
    "f_type = \"quadratic\"\n",
    "K_max = 2 #max degree of Hermite polynomial\n",
    "S_max = 2 #max degree of polynomial during regression stage\n",
    "lag = 50 #maximal lag order\n",
    "N_test = 5*10**3"
   ]
  },
  {
   "cell_type": "markdown",
   "metadata": {},
   "source": [
    "Sample discretized diffusion"
   ]
  },
  {
   "cell_type": "code",
   "execution_count": null,
   "metadata": {},
   "outputs": [],
   "source": [
    "x0 = 5*np.array([1.0,1.0],dtype = float)\n",
    "r_seed = 1812\n",
    "X_train, noise_train = generate_traj(x0,n,gamma,r_seed,d,cov)\n",
    "#set target function\n",
    "Y_train = np.sum(X_train**2,axis=1)\n",
    "X_train = X_train.reshape((1,-1,d))\n",
    "Y_train = Y_train.reshape((1,-1,1))"
   ]
  },
  {
   "cell_type": "markdown",
   "metadata": {},
   "source": [
    "### Bernoulli:: Optimize coefficients by solving regression with polynomial features"
   ]
  },
  {
   "cell_type": "code",
   "execution_count": null,
   "metadata": {},
   "outputs": [],
   "source": [
    "#polynomial coefficients\n",
    "coefs_poly = approx_q(X_train,Y_train,n_traj,lag,S_max)\n",
    "#print(coefs_poly.shape)\n",
    "print(coefs_poly)\n",
    "regr_vals = np.zeros((lag,X_train.shape[1]),dtype=float)\n",
    "features = np.zeros((X_train.shape[1],6),dtype=float)\n",
    "features[:,0] = 1.0\n",
    "features[:,1:3] = X_train[0,:,:]\n",
    "features[:,3] = X_train[0,:,0]**2 \n",
    "features[:,4] = X_train[0,:,0]*X_train[0,:,1]\n",
    "features[:,5] = X_train[0,:,1]**2\n",
    "for i in range(len(regr_vals)):\n",
    "    regr_vals[i,:] = np.sum(coefs_poly[i,:]*features,axis=1)"
   ]
  },
  {
   "cell_type": "markdown",
   "metadata": {},
   "source": [
    "Test our regressors"
   ]
  },
  {
   "cell_type": "code",
   "execution_count": null,
   "metadata": {},
   "outputs": [],
   "source": [
    "cur_lag = 1\n",
    "N_pts = 500\n",
    "plt.figure(figsize=(10, 10))\n",
    "plt.title(\"Testing regression model\",fontsize=20)\n",
    "plt.plot(Y_train[0,cur_lag:N_pts+cur_lag,0],color='r',label='true function')\n",
    "plt.plot(regr_vals[cur_lag,:N_pts],color='g',label = 'practical approximation')\n",
    "plt.legend(loc = 'upper left',fontsize = 16)\n",
    "plt.show()"
   ]
  },
  {
   "cell_type": "code",
   "execution_count": null,
   "metadata": {},
   "outputs": [],
   "source": [
    "test_seed = 1453\n",
    "nbcores = multiprocessing.cpu_count()\n",
    "trav = Pool(nbcores)\n",
    "res = trav.starmap(test_traj, [(coefs_poly,gamma,test_seed+i,lag,d,cov,N_test,x0) for i in range (n_traj_test)])\n",
    "#res = trav.starmap(test_traj, [(Cur_pot,coefs_poly,step,test_seed+i,lag,K_max,S_max,N_burn,N_test,d,f_type,inds_arr,params,x0,fixed_start) for i in range (n_traj_test)])\n",
    "trav.close()"
   ]
  },
  {
   "cell_type": "code",
   "execution_count": null,
   "metadata": {},
   "outputs": [],
   "source": [
    "res_new = np.asarray(res)\n",
    "print(res_new.shape)"
   ]
  },
  {
   "cell_type": "markdown",
   "metadata": {},
   "source": [
    "### Comparison plots"
   ]
  },
  {
   "cell_type": "code",
   "execution_count": null,
   "metadata": {},
   "outputs": [],
   "source": [
    "title = \"\"\n",
    "labels = ['Vanilla\\n Euler scheme', 'Euler scheme \\nwith MDCV-1']\n",
    "#labels = ['Vanilla\\n ULA', 'ULA \\nwith MDCV-1', 'ULA \\nwith MDCV-2']"
   ]
  },
  {
   "cell_type": "code",
   "execution_count": null,
   "metadata": {},
   "outputs": [],
   "source": [
    "data = [res_new[:,0],res_new[:,1]]#,res_new[:,2]] \n",
    "boxplot_ind(data, title, labels,path=\"./2d_diffusion_quadratic.pdf\")"
   ]
  },
  {
   "cell_type": "code",
   "execution_count": null,
   "metadata": {},
   "outputs": [],
   "source": []
  }
 ],
 "metadata": {
  "kernelspec": {
   "display_name": "Python 3",
   "language": "python",
   "name": "python3"
  },
  "language_info": {
   "codemirror_mode": {
    "name": "ipython",
    "version": 3
   },
   "file_extension": ".py",
   "mimetype": "text/x-python",
   "name": "python",
   "nbconvert_exporter": "python",
   "pygments_lexer": "ipython3",
   "version": "3.6.7"
  }
 },
 "nbformat": 4,
 "nbformat_minor": 2
}
